{
 "cells": [
  {
   "cell_type": "markdown",
   "metadata": {},
   "source": [
    "# Policy Brief \n",
    "\n",
    "This notebook should contain your entire \"policy brief\", which consists of 3 sections. You should only complete sections 1-2 before handing the notebook via git. \n",
    "\n",
    "1. Policy Introduction \n",
    "1. Policy Analysis \n",
    "1. Negiotation Tool"
   ]
  },
  {
   "cell_type": "code",
   "execution_count": 1,
   "metadata": {},
   "outputs": [
    {
     "ename": "ModuleNotFoundError",
     "evalue": "No module named 'intake'",
     "output_type": "error",
     "traceback": [
      "\u001b[0;31m---------------------------------------------------------------------------\u001b[0m",
      "\u001b[0;31mModuleNotFoundError\u001b[0m                       Traceback (most recent call last)",
      "\u001b[0;32m<ipython-input-1-e19ff89fbaed>\u001b[0m in \u001b[0;36m<module>\u001b[0;34m()\u001b[0m\n\u001b[1;32m      1\u001b[0m \u001b[0;31m# Useful Libraries\u001b[0m\u001b[0;34m\u001b[0m\u001b[0;34m\u001b[0m\u001b[0;34m\u001b[0m\u001b[0m\n\u001b[1;32m      2\u001b[0m \u001b[0;32mimport\u001b[0m \u001b[0mpandas\u001b[0m \u001b[0;32mas\u001b[0m \u001b[0mpd\u001b[0m\u001b[0;34m\u001b[0m\u001b[0;34m\u001b[0m\u001b[0m\n\u001b[0;32m----> 3\u001b[0;31m \u001b[0;32mimport\u001b[0m \u001b[0mintake\u001b[0m\u001b[0;34m\u001b[0m\u001b[0;34m\u001b[0m\u001b[0m\n\u001b[0m\u001b[1;32m      4\u001b[0m \u001b[0;32mimport\u001b[0m \u001b[0mgeopandas\u001b[0m \u001b[0;32mas\u001b[0m \u001b[0mgpd\u001b[0m\u001b[0;34m\u001b[0m\u001b[0;34m\u001b[0m\u001b[0m\n",
      "\u001b[0;31mModuleNotFoundError\u001b[0m: No module named 'intake'"
     ]
    }
   ],
   "source": [
    "# Useful Libraries \n",
    "import pandas as pd\n",
    "import intake \n",
    "import geopandas as gpd"
   ]
  },
  {
   "cell_type": "code",
   "execution_count": 2,
   "metadata": {},
   "outputs": [],
   "source": [
    "# Data Catalog "
   ]
  },
  {
   "cell_type": "markdown",
   "metadata": {},
   "source": [
    "## Policy Introduction \n",
    "\n",
    "This section below should containt a basic introduction to your policy, written in the style of a [fact sheet](https://cappa.memberclicks.net/assets/StateLegislation/2018/SB%20828%20fact%20sheet.pdf). \n",
    "\n",
    "It should contain the following points (bullets are fine). \n",
    "\n",
    "1. background \n",
    "1. change to law\n",
    "1. rationale \n",
    "\n",
    "It should be entirely written material / graphics. Think of it as introduction to your theoretical bill. "
   ]
  },
  {
   "cell_type": "code",
   "execution_count": 9,
   "metadata": {},
   "outputs": [],
   "source": []
  },
  {
   "cell_type": "markdown",
   "metadata": {},
   "source": [
    "## Policy Analysis\n",
    "\n",
    "This is where code comes in. For each policy, please analysis the impacts on the City of Los Angeles. We've provided several datasets to make this easier for you. \n",
    "\n",
    "For your team's bill you will be required to \n",
    "\n",
    "1. show a map of where the bill will or will not affect\n",
    "1. a basic socio-economic profile using census data\n",
    "1. any other estimates of affects "
   ]
  },
  {
   "cell_type": "code",
   "execution_count": null,
   "metadata": {},
   "outputs": [],
   "source": []
  },
  {
   "cell_type": "markdown",
   "metadata": {},
   "source": [
    "## Negiotation Tool\n",
    "\n",
    "_DO NOT TOUCH THIS SECTION UNTIL AFTER FIRST SUBMISSION OF POLICY BRIEF_ \n",
    "\n",
    "After submitting your policy, we'll come back with a few scenarios we'd like to analyse. Using some of the code snippets in `code-snippets.ipynb`, make the analysis you did in section 2 dynamic by allowing us to explore scenarios. \n",
    "\n",
    "For example, if you proposed something similar to LA's existing [TOC Program](https://planning.lacity.org/plans-policies/transit-oriented-communities-incentive-program), we would ask you to show affect areas but with a slider to control how frequently a bus would need to arrive. "
   ]
  },
  {
   "cell_type": "code",
   "execution_count": null,
   "metadata": {},
   "outputs": [],
   "source": []
  }
 ],
 "metadata": {
  "kernelspec": {
   "display_name": "Python 3",
   "language": "python",
   "name": "python3"
  },
  "language_info": {
   "codemirror_mode": {
    "name": "ipython",
    "version": 3
   },
   "file_extension": ".py",
   "mimetype": "text/x-python",
   "name": "python",
   "nbconvert_exporter": "python",
   "pygments_lexer": "ipython3",
   "version": "3.7.8"
  }
 },
 "nbformat": 4,
 "nbformat_minor": 4
}
